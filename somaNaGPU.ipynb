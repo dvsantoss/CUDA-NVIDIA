{
  "nbformat": 4,
  "nbformat_minor": 0,
  "metadata": {
    "colab": {
      "provenance": [],
      "gpuType": "T4",
      "authorship_tag": "ABX9TyMWXrhgTl6ZpEd086nWrNyM",
      "include_colab_link": true
    },
    "kernelspec": {
      "name": "python3",
      "display_name": "Python 3"
    },
    "language_info": {
      "name": "python"
    },
    "accelerator": "GPU"
  },
  "cells": [
    {
      "cell_type": "markdown",
      "metadata": {
        "id": "view-in-github",
        "colab_type": "text"
      },
      "source": [
        "<a href=\"https://colab.research.google.com/github/dvsantoss/CUDA-NVIDIA/blob/main/somaNaGPU.ipynb\" target=\"_parent\"><img src=\"https://colab.research.google.com/assets/colab-badge.svg\" alt=\"Open In Colab\"/></a>"
      ]
    },
    {
      "cell_type": "code",
      "execution_count": 1,
      "metadata": {
        "colab": {
          "base_uri": "https://localhost:8080/"
        },
        "id": "TWmfdiEHb8hg",
        "outputId": "2a6059a5-38e5-4161-ed47-5946ce4877ef"
      },
      "outputs": [
        {
          "output_type": "stream",
          "name": "stdout",
          "text": [
            "Requirement already satisfied: cupy-cuda12x in /usr/local/lib/python3.11/dist-packages (13.3.0)\n",
            "Requirement already satisfied: numpy<2.3,>=1.22 in /usr/local/lib/python3.11/dist-packages (from cupy-cuda12x) (2.0.2)\n",
            "Requirement already satisfied: fastrlock>=0.5 in /usr/local/lib/python3.11/dist-packages (from cupy-cuda12x) (0.8.3)\n"
          ]
        }
      ],
      "source": [
        "!pip install cupy-cuda12x"
      ]
    },
    {
      "cell_type": "code",
      "source": [
        "import cupy as cp;\n",
        "\n",
        "# 1. Criando \"arrays\" DIRETAMENTE na GPU\n",
        "# com cupy.array() os dados vão para a memória principal da GPU (VRAM)\n",
        "\n",
        "a = cp.array([1.0, 2.0, 3.0, 4.0]);\n",
        "b = cp.array([10.0, 20.0, 30.0, 40.0]);\n",
        "\n",
        "# 2. Soma A + B = C na GPU\n",
        "# (aqui o CuPy eatá usando o CUDA por \"baixo dos panos\")\n",
        "# Executando em paralelo: A GPU usa seus milhares de núcleos para somar tudo de uma vez, em altíssima velocidade.\n",
        "\n",
        "c = a + b;\n",
        "\n",
        "# 3. Mostra o resultado (que ainda está na GPU,\n",
        "# mas o print o traz para a CPU para visualização)\n",
        "\n",
        "print(\"CuPy (A+B):\", c);\n",
        "\n",
        "\n",
        "# Saída Esperada: CuPy (A+B): [11. 22. 33. 44.]"
      ],
      "metadata": {
        "colab": {
          "base_uri": "https://localhost:8080/"
        },
        "id": "rEvlD7yzcaou",
        "outputId": "46152cb7-ae5a-419b-c92f-ea598dd9f8d6"
      },
      "execution_count": 2,
      "outputs": [
        {
          "output_type": "stream",
          "name": "stdout",
          "text": [
            "CuPy (A+B): [11. 22. 33. 44.]\n"
          ]
        }
      ]
    }
  ]
}